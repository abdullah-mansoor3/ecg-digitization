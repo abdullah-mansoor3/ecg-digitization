{
 "cells": [
  {
   "cell_type": "code",
   "execution_count": 1,
   "id": "b8be5525",
   "metadata": {},
   "outputs": [
    {
     "name": "stderr",
     "output_type": "stream",
     "text": [
      "2025-07-29 14:52:26.254779: E external/local_xla/xla/stream_executor/cuda/cuda_fft.cc:467] Unable to register cuFFT factory: Attempting to register factory for plugin cuFFT when one has already been registered\n",
      "WARNING: All log messages before absl::InitializeLog() is called are written to STDERR\n",
      "E0000 00:00:1753782747.295986   61387 cuda_dnn.cc:8579] Unable to register cuDNN factory: Attempting to register factory for plugin cuDNN when one has already been registered\n",
      "E0000 00:00:1753782747.521055   61387 cuda_blas.cc:1407] Unable to register cuBLAS factory: Attempting to register factory for plugin cuBLAS when one has already been registered\n",
      "W0000 00:00:1753782749.591810   61387 computation_placer.cc:177] computation placer already registered. Please check linkage and avoid linking the same target more than once.\n",
      "W0000 00:00:1753782749.591918   61387 computation_placer.cc:177] computation placer already registered. Please check linkage and avoid linking the same target more than once.\n",
      "W0000 00:00:1753782749.591931   61387 computation_placer.cc:177] computation placer already registered. Please check linkage and avoid linking the same target more than once.\n",
      "W0000 00:00:1753782749.591941   61387 computation_placer.cc:177] computation placer already registered. Please check linkage and avoid linking the same target more than once.\n",
      "2025-07-29 14:52:29.758842: I tensorflow/core/platform/cpu_feature_guard.cc:210] This TensorFlow binary is optimized to use available CPU instructions in performance-critical operations.\n",
      "To enable the following instructions: AVX2 FMA, in other operations, rebuild TensorFlow with the appropriate compiler flags.\n"
     ]
    }
   ],
   "source": [
    "import time\n",
    "import os\n",
    "import json\n",
    "import cv2\n",
    "import yaml\n",
    "import numpy as np\n",
    "from PIL import Image\n",
    "\n",
    "from scipy.spatial.distance import euclidean\n",
    "from scipy.stats import pearsonr\n",
    "from fastdtw import fastdtw\n",
    "from sklearn.metrics import mean_squared_error\n",
    "\n",
    "from scripts.grid_detection import get_grid_square_size\n",
    "from scripts.extract_wave_tflite import WaveExtractor\n",
    "from scripts.digititze import process_ecg_mask\n",
    "from scripts.lead_segmentation_tflite import init_model as init_lead_model, inference_and_label_and_crop\n"
   ]
  },
  {
   "cell_type": "code",
   "execution_count": 2,
   "id": "db83f536",
   "metadata": {},
   "outputs": [],
   "source": [
    "# --- Load configs ---\n",
    "with open('./configs/lead_segmentation.yaml', 'r') as f:\n",
    "    lead_cfg = yaml.safe_load(f)\n",
    "with open('./configs/wave_extraction.yaml', 'r') as f:\n",
    "    wave_cfg = yaml.safe_load(f)\n",
    "with open('./configs/grid_detection.yaml', 'r') as f:\n",
    "    grid_cfg = yaml.safe_load(f)\n",
    "with open('./configs/digitize.yaml', 'r') as f:\n",
    "    digitize_cfg = yaml.safe_load(f)\n",
    "\n",
    "# --- Paths ---\n",
    "INPUT_ROOT = '../data/digitization-dataset/digitization-dataset'\n",
    "CROPPED_SAVE_DIR = lead_cfg['output_dir']\n",
    "GRID_KERNEL = grid_cfg.get('closing_kernel', 10)\n",
    "GRID_LENGTH_FRAC = grid_cfg.get('length_frac', 0.05)\n",
    "WAVE_WEIGHTS_PATH = wave_cfg['weights_path']\n",
    "WAVE_DEVICE = wave_cfg.get('device', 'cpu')\n",
    "FINAL_OUTPUT_DIR = './data/test'\n",
    "YOLO_WEIGHTS_PATH = lead_cfg['model_path']\n",
    "os.makedirs(CROPPED_SAVE_DIR, exist_ok=True)\n",
    "os.makedirs(FINAL_OUTPUT_DIR, exist_ok=True)"
   ]
  },
  {
   "cell_type": "code",
   "execution_count": 3,
   "id": "ba3e72d1",
   "metadata": {},
   "outputs": [
    {
     "name": "stdout",
     "output_type": "stream",
     "text": [
      "initializing wave extractor...\n",
      "Wave extractor initialized.\n"
     ]
    },
    {
     "name": "stderr",
     "output_type": "stream",
     "text": [
      "/home/abdullah-bin-mansoor/miniconda3/envs/py310/lib/python3.10/site-packages/tensorflow/lite/python/interpreter.py:457: UserWarning:     Warning: tf.lite.Interpreter is deprecated and is scheduled for deletion in\n",
      "    TF 2.20. Please use the LiteRT interpreter from the ai_edge_litert package.\n",
      "    See the [migration guide](https://ai.google.dev/edge/litert/migration)\n",
      "    for details.\n",
      "    \n",
      "  warnings.warn(_INTERPRETER_DELETION_WARNING)\n",
      "INFO: Created TensorFlow Lite XNNPACK delegate for CPU.\n"
     ]
    }
   ],
   "source": [
    "\n",
    "# --- Init models once ---\n",
    "wave_extractor = WaveExtractor(WAVE_WEIGHTS_PATH, device=WAVE_DEVICE)\n",
    "lead_model     = init_lead_model(YOLO_WEIGHTS_PATH)\n"
   ]
  },
  {
   "cell_type": "code",
   "execution_count": 4,
   "id": "0740cb58",
   "metadata": {},
   "outputs": [],
   "source": [
    "\n",
    "# --- Evaluation helpers ---\n",
    "def match_length(a, b):\n",
    "    n = min(len(a), len(b))\n",
    "    return a[:n], b[:n]\n",
    "\n",
    "def scalar_euclid(a, b):\n",
    "    # convert floats to 1‑element 1D arrays\n",
    "    return euclidean([a], [b])\n",
    "\n",
    "\n",
    "def evaluate_signals(pred, gt):\n",
    "    p = np.ravel(pred).astype(float)\n",
    "    g = np.ravel(gt).astype(float)\n",
    "    p, g = match_length(p, g)\n",
    "    # MSE & Pearson\n",
    "    mse  = mean_squared_error(g, p)\n",
    "    corr = pearsonr(g, p)[0] if len(g) > 2 else np.nan\n",
    "    # DTW on plain lists\n",
    "    g = g.tolist()\n",
    "    p = p.tolist()\n",
    "\n",
    "    dtw_dist, _ = fastdtw(g, p, dist=scalar_euclid)\n",
    "    return {\"MSE\": mse, \"Correlation\": corr, \"DTW\": dtw_dist}\n"
   ]
  },
  {
   "cell_type": "code",
   "execution_count": 5,
   "id": "68e01a2a",
   "metadata": {},
   "outputs": [
    {
     "name": "stdout",
     "output_type": "stream",
     "text": [
      "Input shape to TFLite model: (1, 640, 640, 3)\n",
      "[INFO] processed signal length: 1712 samples\n",
      "[INFO] processed signal length: 1716 samples\n",
      "[INFO] processed signal length: 1931 samples\n",
      "[INFO] processed signal length: 2013 samples\n",
      "[INFO] processed signal length: 2104 samples\n",
      "[INFO] processed signal length: 1700 samples\n"
     ]
    },
    {
     "name": "stderr",
     "output_type": "stream",
     "text": [
      "/tmp/ipykernel_61387/2729018366.py:17: ConstantInputWarning: An input array is constant; the correlation coefficient is not defined.\n",
      "  corr = pearsonr(g, p)[0] if len(g) > 2 else np.nan\n",
      "/tmp/ipykernel_61387/2729018366.py:17: ConstantInputWarning: An input array is constant; the correlation coefficient is not defined.\n",
      "  corr = pearsonr(g, p)[0] if len(g) > 2 else np.nan\n",
      "/tmp/ipykernel_61387/2729018366.py:17: ConstantInputWarning: An input array is constant; the correlation coefficient is not defined.\n",
      "  corr = pearsonr(g, p)[0] if len(g) > 2 else np.nan\n",
      "/tmp/ipykernel_61387/2729018366.py:17: ConstantInputWarning: An input array is constant; the correlation coefficient is not defined.\n",
      "  corr = pearsonr(g, p)[0] if len(g) > 2 else np.nan\n",
      "/tmp/ipykernel_61387/2729018366.py:17: ConstantInputWarning: An input array is constant; the correlation coefficient is not defined.\n",
      "  corr = pearsonr(g, p)[0] if len(g) > 2 else np.nan\n",
      "/tmp/ipykernel_61387/2729018366.py:17: ConstantInputWarning: An input array is constant; the correlation coefficient is not defined.\n",
      "  corr = pearsonr(g, p)[0] if len(g) > 2 else np.nan\n"
     ]
    },
    {
     "name": "stdout",
     "output_type": "stream",
     "text": [
      "\n",
      "Folder 1670_6by2: 6/12 leads detected\n",
      "  I: MSE=0.0265, Corr=-0.135, DTW=24.0\n",
      "  II: MSE=0.0577, Corr=0.029, DTW=60.2\n",
      "  III: MSE=0.0843, Corr=-0.131, DTW=78.1\n",
      "  aVR: MSE=0.0468, Corr=0.036, DTW=57.0\n",
      "  aVL: MSE=0.0302, Corr=-0.029, DTW=32.6\n",
      "  aVF: MSE=0.0306, Corr=0.049, DTW=27.7\n",
      "Input shape to TFLite model: (1, 640, 640, 3)\n",
      "[INFO] processed signal length: 1935 samples\n",
      "[INFO] processed signal length: 1969 samples\n",
      "[INFO] processed signal length: 1950 samples\n",
      "[INFO] processed signal length: 1952 samples\n",
      "[INFO] processed signal length: 1922 samples\n"
     ]
    },
    {
     "name": "stderr",
     "output_type": "stream",
     "text": [
      "/tmp/ipykernel_61387/2729018366.py:17: ConstantInputWarning: An input array is constant; the correlation coefficient is not defined.\n",
      "  corr = pearsonr(g, p)[0] if len(g) > 2 else np.nan\n",
      "/tmp/ipykernel_61387/2729018366.py:17: ConstantInputWarning: An input array is constant; the correlation coefficient is not defined.\n",
      "  corr = pearsonr(g, p)[0] if len(g) > 2 else np.nan\n",
      "/tmp/ipykernel_61387/2729018366.py:17: ConstantInputWarning: An input array is constant; the correlation coefficient is not defined.\n",
      "  corr = pearsonr(g, p)[0] if len(g) > 2 else np.nan\n",
      "/tmp/ipykernel_61387/2729018366.py:17: ConstantInputWarning: An input array is constant; the correlation coefficient is not defined.\n",
      "  corr = pearsonr(g, p)[0] if len(g) > 2 else np.nan\n",
      "/tmp/ipykernel_61387/2729018366.py:17: ConstantInputWarning: An input array is constant; the correlation coefficient is not defined.\n",
      "  corr = pearsonr(g, p)[0] if len(g) > 2 else np.nan\n",
      "/tmp/ipykernel_61387/2729018366.py:17: ConstantInputWarning: An input array is constant; the correlation coefficient is not defined.\n",
      "  corr = pearsonr(g, p)[0] if len(g) > 2 else np.nan\n",
      "/tmp/ipykernel_61387/2729018366.py:17: ConstantInputWarning: An input array is constant; the correlation coefficient is not defined.\n",
      "  corr = pearsonr(g, p)[0] if len(g) > 2 else np.nan\n"
     ]
    },
    {
     "name": "stdout",
     "output_type": "stream",
     "text": [
      "\n",
      "Folder 2_6by2: 5/12 leads detected\n",
      "  I: MSE=0.0281, Corr=0.030, DTW=24.9\n",
      "  II: MSE=0.0233, Corr=0.242, DTW=39.5\n",
      "  aVR: MSE=0.0300, Corr=-0.005, DTW=36.4\n",
      "  aVL: MSE=0.0303, Corr=-0.115, DTW=35.5\n",
      "  aVF: MSE=0.0149, Corr=-0.132, DTW=29.0\n",
      "Input shape to TFLite model: (1, 640, 640, 3)\n",
      "[INFO] processed signal length: 1888 samples\n",
      "[INFO] processed signal length: 1795 samples\n",
      "[INFO] processed signal length: 1888 samples\n",
      "[INFO] processed signal length: 1879 samples\n",
      "[INFO] processed signal length: 1886 samples\n",
      "[INFO] processed signal length: 2031 samples\n"
     ]
    },
    {
     "name": "stderr",
     "output_type": "stream",
     "text": [
      "/tmp/ipykernel_61387/2729018366.py:17: ConstantInputWarning: An input array is constant; the correlation coefficient is not defined.\n",
      "  corr = pearsonr(g, p)[0] if len(g) > 2 else np.nan\n",
      "/tmp/ipykernel_61387/2729018366.py:17: ConstantInputWarning: An input array is constant; the correlation coefficient is not defined.\n",
      "  corr = pearsonr(g, p)[0] if len(g) > 2 else np.nan\n",
      "/tmp/ipykernel_61387/2729018366.py:17: ConstantInputWarning: An input array is constant; the correlation coefficient is not defined.\n",
      "  corr = pearsonr(g, p)[0] if len(g) > 2 else np.nan\n",
      "/tmp/ipykernel_61387/2729018366.py:17: ConstantInputWarning: An input array is constant; the correlation coefficient is not defined.\n",
      "  corr = pearsonr(g, p)[0] if len(g) > 2 else np.nan\n",
      "/tmp/ipykernel_61387/2729018366.py:17: ConstantInputWarning: An input array is constant; the correlation coefficient is not defined.\n",
      "  corr = pearsonr(g, p)[0] if len(g) > 2 else np.nan\n",
      "/tmp/ipykernel_61387/2729018366.py:17: ConstantInputWarning: An input array is constant; the correlation coefficient is not defined.\n",
      "  corr = pearsonr(g, p)[0] if len(g) > 2 else np.nan\n"
     ]
    },
    {
     "name": "stdout",
     "output_type": "stream",
     "text": [
      "\n",
      "Folder 1234_6by2: 6/12 leads detected\n",
      "  I: MSE=0.0086, Corr=0.088, DTW=20.3\n",
      "  II: MSE=0.0420, Corr=0.011, DTW=55.5\n",
      "  III: MSE=0.0297, Corr=0.120, DTW=36.5\n",
      "  aVR: MSE=0.0249, Corr=-0.224, DTW=41.5\n",
      "  aVL: MSE=0.1345, Corr=0.071, DTW=110.3\n",
      "  aVF: MSE=0.0349, Corr=0.072, DTW=43.5\n",
      "Input shape to TFLite model: (1, 640, 640, 3)\n",
      "[INFO] processed signal length: 1909 samples\n",
      "[INFO] processed signal length: 1891 samples\n",
      "[INFO] processed signal length: 1985 samples\n",
      "[INFO] processed signal length: 1914 samples\n",
      "[INFO] processed signal length: 1983 samples\n"
     ]
    },
    {
     "name": "stderr",
     "output_type": "stream",
     "text": [
      "/tmp/ipykernel_61387/2729018366.py:17: ConstantInputWarning: An input array is constant; the correlation coefficient is not defined.\n",
      "  corr = pearsonr(g, p)[0] if len(g) > 2 else np.nan\n",
      "/tmp/ipykernel_61387/2729018366.py:17: ConstantInputWarning: An input array is constant; the correlation coefficient is not defined.\n",
      "  corr = pearsonr(g, p)[0] if len(g) > 2 else np.nan\n",
      "/tmp/ipykernel_61387/2729018366.py:17: ConstantInputWarning: An input array is constant; the correlation coefficient is not defined.\n",
      "  corr = pearsonr(g, p)[0] if len(g) > 2 else np.nan\n",
      "/tmp/ipykernel_61387/2729018366.py:17: ConstantInputWarning: An input array is constant; the correlation coefficient is not defined.\n",
      "  corr = pearsonr(g, p)[0] if len(g) > 2 else np.nan\n",
      "/tmp/ipykernel_61387/2729018366.py:17: ConstantInputWarning: An input array is constant; the correlation coefficient is not defined.\n",
      "  corr = pearsonr(g, p)[0] if len(g) > 2 else np.nan\n",
      "/tmp/ipykernel_61387/2729018366.py:17: ConstantInputWarning: An input array is constant; the correlation coefficient is not defined.\n",
      "  corr = pearsonr(g, p)[0] if len(g) > 2 else np.nan\n",
      "/tmp/ipykernel_61387/2729018366.py:17: ConstantInputWarning: An input array is constant; the correlation coefficient is not defined.\n",
      "  corr = pearsonr(g, p)[0] if len(g) > 2 else np.nan\n"
     ]
    },
    {
     "name": "stdout",
     "output_type": "stream",
     "text": [
      "\n",
      "Folder 1738_6by2: 5/12 leads detected\n",
      "  II: MSE=0.0274, Corr=0.133, DTW=32.3\n",
      "  III: MSE=0.0314, Corr=0.115, DTW=37.9\n",
      "  aVR: MSE=0.0359, Corr=0.009, DTW=42.8\n",
      "  aVL: MSE=0.0334, Corr=-0.031, DTW=35.4\n",
      "  aVF: MSE=0.0408, Corr=0.083, DTW=39.2\n",
      "Input shape to TFLite model: (1, 640, 640, 3)\n"
     ]
    },
    {
     "ename": "RuntimeError",
     "evalue": "Detected only 11 boxes, expected 12.",
     "output_type": "error",
     "traceback": [
      "\u001b[0;31m---------------------------------------------------------------------------\u001b[0m",
      "\u001b[0;31mRuntimeError\u001b[0m                              Traceback (most recent call last)",
      "Cell \u001b[0;32mIn[5], line 23\u001b[0m\n\u001b[1;32m     20\u001b[0m     \u001b[38;5;28;01mcontinue\u001b[39;00m\n\u001b[1;32m     22\u001b[0m \u001b[38;5;66;03m# 1) lead segmentation\u001b[39;00m\n\u001b[0;32m---> 23\u001b[0m crops \u001b[38;5;241m=\u001b[39m \u001b[43minference_and_label_and_crop\u001b[49m\u001b[43m(\u001b[49m\u001b[43mlead_model\u001b[49m\u001b[43m,\u001b[49m\u001b[43m \u001b[49m\u001b[43mimg_bgr\u001b[49m\u001b[43m,\u001b[49m\u001b[43m \u001b[49m\u001b[43mconf_threshold\u001b[49m\u001b[38;5;241;43m=\u001b[39;49m\u001b[43mlead_cfg\u001b[49m\u001b[43m[\u001b[49m\u001b[38;5;124;43m'\u001b[39;49m\u001b[38;5;124;43mconf_threshold\u001b[39;49m\u001b[38;5;124;43m'\u001b[39;49m\u001b[43m]\u001b[49m\u001b[43m)\u001b[49m\n\u001b[1;32m     24\u001b[0m \u001b[38;5;66;03m# crops: list of (crop_img, label)\u001b[39;00m\n\u001b[1;32m     25\u001b[0m \n\u001b[1;32m     26\u001b[0m \u001b[38;5;66;03m# 2) grid detect & digitize each crop\u001b[39;00m\n\u001b[1;32m     27\u001b[0m lead_waveforms \u001b[38;5;241m=\u001b[39m {}\n",
      "File \u001b[0;32m~/Desktop/ECG Project/full-pipeline/scripts/lead_segmentation_tflite.py:196\u001b[0m, in \u001b[0;36minference_and_label_and_crop\u001b[0;34m(interpreter, image, conf_threshold)\u001b[0m\n\u001b[1;32m    193\u001b[0m keep \u001b[38;5;241m=\u001b[39m [b \u001b[38;5;28;01mfor\u001b[39;00m b \u001b[38;5;129;01min\u001b[39;00m keep \u001b[38;5;28;01mif\u001b[39;00m \u001b[38;5;28mint\u001b[39m(b[\u001b[38;5;241m-\u001b[39m\u001b[38;5;241m1\u001b[39m]) \u001b[38;5;241m==\u001b[39m \u001b[38;5;241m0\u001b[39m]\n\u001b[1;32m    195\u001b[0m \u001b[38;5;28;01mif\u001b[39;00m \u001b[38;5;28mlen\u001b[39m(keep) \u001b[38;5;241m<\u001b[39m \u001b[38;5;28mlen\u001b[39m(LEFT_LABELS) \u001b[38;5;241m+\u001b[39m \u001b[38;5;28mlen\u001b[39m(RIGHT_LABELS):\n\u001b[0;32m--> 196\u001b[0m     \u001b[38;5;28;01mraise\u001b[39;00m \u001b[38;5;167;01mRuntimeError\u001b[39;00m(\u001b[38;5;124mf\u001b[39m\u001b[38;5;124m\"\u001b[39m\u001b[38;5;124mDetected only \u001b[39m\u001b[38;5;132;01m{\u001b[39;00m\u001b[38;5;28mlen\u001b[39m(keep)\u001b[38;5;132;01m}\u001b[39;00m\u001b[38;5;124m boxes, expected \u001b[39m\u001b[38;5;132;01m{\u001b[39;00m\u001b[38;5;28mlen\u001b[39m(LEFT_LABELS)\u001b[38;5;241m+\u001b[39m\u001b[38;5;28mlen\u001b[39m(RIGHT_LABELS)\u001b[38;5;132;01m}\u001b[39;00m\u001b[38;5;124m.\u001b[39m\u001b[38;5;124m\"\u001b[39m)\n\u001b[1;32m    199\u001b[0m wave_boxes \u001b[38;5;241m=\u001b[39m [b[:\u001b[38;5;241m4\u001b[39m] \u001b[38;5;28;01mfor\u001b[39;00m b \u001b[38;5;129;01min\u001b[39;00m keep]\n\u001b[1;32m    200\u001b[0m x_centers \u001b[38;5;241m=\u001b[39m [((x1\u001b[38;5;241m+\u001b[39mx2)\u001b[38;5;241m/\u001b[39m\u001b[38;5;241m2\u001b[39m) \u001b[38;5;28;01mfor\u001b[39;00m x1,y1,x2,y2 \u001b[38;5;129;01min\u001b[39;00m wave_boxes]\n",
      "\u001b[0;31mRuntimeError\u001b[0m: Detected only 11 boxes, expected 12."
     ]
    }
   ],
   "source": [
    "# --- Main evaluation loop ---\n",
    "lead_names = [\"I\",\"II\",\"III\",\"aVR\",\"aVL\",\"aVF\",\"V1\",\"V2\",\"V3\",\"V4\",\"V5\",\"V6\"]\n",
    "folders = [d for d in os.listdir(INPUT_ROOT) if '6by2' in d and os.path.isdir(os.path.join(INPUT_ROOT,d))]\n",
    "total_folders = len(folders)\n",
    "total_slots   = total_folders * len(lead_names)\n",
    "detected_count= 0\n",
    "per_lead_detect = {ln:0 for ln in lead_names}\n",
    "metrics_detected = []\n",
    "metrics_all      = []\n",
    "\n",
    "start = time.time()\n",
    "for idx, fld in enumerate(folders,1):\n",
    "    if idx%10==0:\n",
    "        print(f\"{idx}/{total_folders} folders processed…\")\n",
    "    fld_path = os.path.join(INPUT_ROOT, fld)\n",
    "    img_path = os.path.join(fld_path, f\"{fld}.jpg\")\n",
    "    img_bgr  = cv2.imread(img_path)\n",
    "    if img_bgr is None:\n",
    "        print(f\"⚠️ Missing image: {img_path}\")\n",
    "        continue\n",
    "\n",
    "    # 1) lead segmentation\n",
    "    crops = inference_and_label_and_crop(lead_model, img_bgr, conf_threshold=lead_cfg['conf_threshold'])\n",
    "    # crops: list of (crop_img, label)\n",
    "\n",
    "    # 2) grid detect & digitize each crop\n",
    "    lead_waveforms = {}\n",
    "    lead_to_size = {}\n",
    "    for crop_img, label in crops:\n",
    "        # a) grid square\n",
    "        sq = get_grid_square_size(crop_img, closing_kernel=GRID_KERNEL, length_frac=GRID_LENGTH_FRAC)\n",
    "        lead_to_size[label] = sq\n",
    "\n",
    "        # b) extract mask\n",
    "        pil_crop = Image.fromarray(cv2.cvtColor(crop_img, cv2.COLOR_BGR2RGB))\n",
    "        mask = wave_extractor.extract_wave(pil_crop)\n",
    "        mask_np = np.array(mask)\n",
    "\n",
    "        # c) resize mask back to original crop size\n",
    "        h,w = crop_img.shape[:2]\n",
    "        mask_rs = cv2.resize(mask_np, (w,h), interpolation=cv2.INTER_NEAREST)\n",
    "\n",
    "        # d) digitize\n",
    "        wf = process_ecg_mask(mask_rs, sq)\n",
    "        lead_waveforms[label] = wf\n",
    "\n",
    "    # 3) compare to JSON ground truth\n",
    "    results_det = {}\n",
    "    results_all = {}\n",
    "    for i_lead, lead_label in enumerate(lead_names):\n",
    "        gt_file = os.path.join(fld_path, f\"{fld}_lead_{i_lead}.json\")\n",
    "        if not os.path.isfile(gt_file):\n",
    "            continue\n",
    "        gt_wave = np.array(json.load(open(gt_file)))\n",
    "\n",
    "        # find matching digitized\n",
    "        pred = None\n",
    "        for lbl,wf in lead_waveforms.items():\n",
    "            if lbl.lower()==lead_label.lower():\n",
    "                pred = wf; break\n",
    "\n",
    "        # detected-only\n",
    "        if pred is not None:\n",
    "            detected_count += 1\n",
    "            per_lead_detect[lead_label] += 1\n",
    "            m = evaluate_signals(pred, gt_wave)\n",
    "            results_det[lead_label] = m\n",
    "            metrics_detected.append(m)\n",
    "        # zeros-for-missed\n",
    "        p0 = pred if pred is not None else np.zeros_like(gt_wave,dtype=float)\n",
    "        m_all = evaluate_signals(p0, gt_wave)\n",
    "        results_all[lead_label] = m_all\n",
    "        metrics_all.append(m_all)\n",
    "\n",
    "    # print per-folder\n",
    "    print(f\"\\nFolder {fld}: {len(results_det)}/{len(lead_names)} leads detected\")\n",
    "    for ln,m in results_det.items():\n",
    "        print(f\"  {ln}: MSE={m['MSE']:.4f}, Corr={m['Correlation']:.3f}, DTW={m['DTW']:.1f}\")\n"
   ]
  },
  {
   "cell_type": "code",
   "execution_count": null,
   "id": "ac2bfa8f",
   "metadata": {},
   "outputs": [],
   "source": [
    "\n",
    "# 4) final summary\n",
    "print(\"\\n=== Detection Rates ===\")\n",
    "print(f\"Overall: {detected_count}/{total_slots} = {detected_count/total_slots:.1%}\")\n",
    "for ln in lead_names:\n",
    "    r = per_lead_detect[ln]/total_folders\n",
    "    print(f\"  {ln}: {per_lead_detect[ln]}/{total_folders} = {r:.1%}\")\n",
    "\n",
    "def summarize(lst):\n",
    "    keys = lst[0].keys()\n",
    "    s={}\n",
    "    for k in keys:\n",
    "        arr = np.array([m[k] for m in lst])\n",
    "        s[k] = (np.nanmean(arr), np.nanstd(arr))\n",
    "    return s\n",
    "\n",
    "sd = summarize(metrics_detected)\n",
    "sa = summarize(metrics_all)\n",
    "print(\"\\n=== Metrics (detected-only) ===\")\n",
    "for k,(mu,sdv) in sd.items():\n",
    "    print(f\"{k}: {mu:.4f} ± {sdv:.4f}\")\n",
    "print(\"\\n=== Metrics (all leads, zeros) ===\")\n",
    "for k,(mu,sdv) in sa.items():\n",
    "    print(f\"{k}: {mu:.4f} ± {sdv:.4f}\")\n",
    "\n",
    "print(f\"\\nTotal time: {time.time()-start:.1f}s\")"
   ]
  },
  {
   "cell_type": "code",
   "execution_count": null,
   "id": "523fa3f0",
   "metadata": {},
   "outputs": [],
   "source": []
  }
 ],
 "metadata": {
  "kernelspec": {
   "display_name": "py310",
   "language": "python",
   "name": "python3"
  },
  "language_info": {
   "codemirror_mode": {
    "name": "ipython",
    "version": 3
   },
   "file_extension": ".py",
   "mimetype": "text/x-python",
   "name": "python",
   "nbconvert_exporter": "python",
   "pygments_lexer": "ipython3",
   "version": "3.10.18"
  }
 },
 "nbformat": 4,
 "nbformat_minor": 5
}
