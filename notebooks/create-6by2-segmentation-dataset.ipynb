{
 "cells": [
  {
   "cell_type": "code",
   "execution_count": 48,
   "id": "4a3094e3",
   "metadata": {},
   "outputs": [],
   "source": [
    "import os\n",
    "import shutil\n",
    "import random"
   ]
  },
  {
   "cell_type": "code",
   "execution_count": 49,
   "id": "a51799aa",
   "metadata": {},
   "outputs": [],
   "source": [
    "# Input paths\n",
    "detection_path = '../data/segmentation-dataset/segmentation-dataset/'\n",
    "images_path = os.path.join(detection_path, 'images')\n",
    "labels_path = os.path.join(detection_path, 'labels')\n",
    "\n",
    "# Output paths\n",
    "destination_dir = \"../data/segmentation-dataset-6by2/\"\n",
    "splits = ['train', 'val', 'test']\n",
    "for split in splits:\n",
    "    os.makedirs(os.path.join(destination_dir, split, 'images'), exist_ok=True)\n",
    "    os.makedirs(os.path.join(destination_dir, split, 'labels'), exist_ok=True)\n"
   ]
  },
  {
   "cell_type": "code",
   "execution_count": 50,
   "id": "fb6b2739",
   "metadata": {},
   "outputs": [],
   "source": [
    "# Collect 6by2 samples\n",
    "images_6by2 = [f for f in os.listdir(images_path) if '6by2' in f]\n",
    "labels_6by2 = [f for f in os.listdir(labels_path) if '6by2' in f]"
   ]
  },
  {
   "cell_type": "code",
   "execution_count": 51,
   "id": "0cc0390b",
   "metadata": {},
   "outputs": [
    {
     "data": {
      "text/plain": [
       "(500, 500)"
      ]
     },
     "execution_count": 51,
     "metadata": {},
     "output_type": "execute_result"
    }
   ],
   "source": [
    "# Ensure Lengths match\n",
    "len(images_6by2), len(labels_6by2)"
   ]
  },
  {
   "cell_type": "code",
   "execution_count": 52,
   "id": "532bb919",
   "metadata": {},
   "outputs": [],
   "source": [
    "# Match filenames (strip extensions)\n",
    "img_bases = set([f[:-4] for f in images_6by2])\n",
    "lbl_bases = set([f[:-4] for f in labels_6by2])\n",
    "common_bases = list(img_bases & lbl_bases)"
   ]
  },
  {
   "cell_type": "code",
   "execution_count": 53,
   "id": "5c383ac7",
   "metadata": {},
   "outputs": [],
   "source": [
    "# Filter to only existing file pairs\n",
    "valid_bases = []\n",
    "for base in common_bases:\n",
    "    img_path = os.path.join(images_path, base + '.jpg')\n",
    "    lbl_path = os.path.join(labels_path, base + '.txt')\n",
    "    if os.path.exists(img_path) and os.path.exists(lbl_path):\n",
    "        valid_bases.append(base)\n"
   ]
  },
  {
   "cell_type": "code",
   "execution_count": 54,
   "id": "b5781934",
   "metadata": {},
   "outputs": [
    {
     "data": {
      "text/plain": [
       "500"
      ]
     },
     "execution_count": 54,
     "metadata": {},
     "output_type": "execute_result"
    }
   ],
   "source": [
    "len(valid_bases)"
   ]
  },
  {
   "cell_type": "code",
   "execution_count": 55,
   "id": "11adfaa1",
   "metadata": {},
   "outputs": [],
   "source": [
    "# Shuffle and split\n",
    "random.shuffle(valid_bases)\n",
    "n = len(common_bases)\n",
    "train_split = int(0.7 * n)\n",
    "val_split   = int(0.85 * n)"
   ]
  },
  {
   "cell_type": "code",
   "execution_count": 56,
   "id": "3b39c586",
   "metadata": {},
   "outputs": [],
   "source": [
    "train_bases = common_bases[:train_split]\n",
    "val_bases   = common_bases[train_split:val_split]\n",
    "test_bases  = common_bases[val_split:]"
   ]
  },
  {
   "cell_type": "code",
   "execution_count": 57,
   "id": "537f2f72",
   "metadata": {},
   "outputs": [],
   "source": [
    "# Copy function\n",
    "def copy_data(basenames, split):\n",
    "    for base in basenames:\n",
    "        shutil.copy(os.path.join(images_path, base + '.jpg'), os.path.join(destination_dir, split, 'images', base + '.jpg'))\n",
    "        shutil.copy(os.path.join(labels_path, base + '.txt'), os.path.join(destination_dir, split, 'labels', base + '.txt'))\n"
   ]
  },
  {
   "cell_type": "code",
   "execution_count": 58,
   "id": "3b09969f",
   "metadata": {},
   "outputs": [],
   "source": [
    "# Copy files\n",
    "copy_data(train_bases, 'train')\n",
    "copy_data(val_bases, 'val')\n",
    "copy_data(test_bases, 'test')"
   ]
  },
  {
   "cell_type": "code",
   "execution_count": 60,
   "id": "4b9adbf6",
   "metadata": {},
   "outputs": [
    {
     "data": {
      "text/plain": [
       "500"
      ]
     },
     "execution_count": 60,
     "metadata": {},
     "output_type": "execute_result"
    }
   ],
   "source": [
    "len(train_bases) + len(val_bases) + len(test_bases)"
   ]
  },
  {
   "cell_type": "code",
   "execution_count": null,
   "id": "b23de3a8",
   "metadata": {},
   "outputs": [],
   "source": []
  }
 ],
 "metadata": {
  "kernelspec": {
   "display_name": "ecg_venv",
   "language": "python",
   "name": "python3"
  },
  "language_info": {
   "codemirror_mode": {
    "name": "ipython",
    "version": 3
   },
   "file_extension": ".py",
   "mimetype": "text/x-python",
   "name": "python",
   "nbconvert_exporter": "python",
   "pygments_lexer": "ipython3",
   "version": "3.13.2"
  }
 },
 "nbformat": 4,
 "nbformat_minor": 5
}
